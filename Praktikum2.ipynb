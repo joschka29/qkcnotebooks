{
 "cells": [
  {
   "cell_type": "markdown",
   "metadata": {},
   "source": [
    "# <center>Kanalcodierung mit MATLAB mit Python </center>\n",
    "### <center>Praktikumsversuch für das Modul </center>\n",
    "# <center>Quellen- und Kanalcodierung</center>"
   ]
  },
  {
   "cell_type": "code",
   "execution_count": 2,
   "metadata": {},
   "outputs": [
    {
     "ename": "SyntaxError",
     "evalue": "invalid syntax (lab2.py, line 52)",
     "output_type": "error",
     "traceback": [
      "Traceback \u001b[1;36m(most recent call last)\u001b[0m:\n",
      "  File \u001b[0;32m\"C:\\Users\\Joschka\\AppData\\Local\\Programs\\Python\\Python36-32\\lib\\site-packages\\IPython\\core\\interactiveshell.py\"\u001b[0m, line \u001b[0;32m2862\u001b[0m, in \u001b[0;35mrun_code\u001b[0m\n    exec(code_obj, self.user_global_ns, self.user_ns)\n",
      "\u001b[1;36m  File \u001b[1;32m\"<ipython-input-2-6b30cf5e123f>\"\u001b[1;36m, line \u001b[1;32m2\u001b[1;36m, in \u001b[1;35m<module>\u001b[1;36m\u001b[0m\n\u001b[1;33m    from qkclab.lab2 import *\u001b[0m\n",
      "\u001b[1;36m  File \u001b[1;32m\"C:\\Users\\Joschka\\sciebo\\Python\\ipynb\\qkclab\\lab2.py\"\u001b[1;36m, line \u001b[1;32m52\u001b[0m\n\u001b[1;33m    if rem(i-1,2^(-j+k+1))>=2^(-j+k)\u001b[0m\n\u001b[1;37m                                    ^\u001b[0m\n\u001b[1;31mSyntaxError\u001b[0m\u001b[1;31m:\u001b[0m invalid syntax\n"
     ]
    }
   ],
   "source": [
    "%matplotlib inline\n",
    "from qkclab.lab2 import *\n",
    "import matplotlib.pyplot as plt,numpy as np"
   ]
  },
  {
   "cell_type": "markdown",
   "metadata": {},
   "source": [
    "### Einleitung\n",
    "Zur Vertiefung der in der Vorlesung 'Grundlagen der Telekommunikation' vermittelten Theorie zum Thema\n",
    "Kanalcodierung sollen in diesem Versuch mit Hilfe eines weit verbreiteten Simulationswerkzeuges einige Verfahren\n",
    "und Methoden anhand von Beispielen untersucht werden.\n",
    "Die Gliederung des Praktikumsversuches ist dabei wie folgt:\n",
    "* 1 Untersuchung von Block- und Faltungscodes\n",
    "* 2 Performance der Codes auf dem BSC und AWGN Kanal\n",
    "* 3 Viterbi Decoder\n",
    "\n",
    "### Lernziele\n",
    "* Vertiefen des in der Vorlesung erlernten Stoffes\n",
    "* Eigenschaften von Block- und Faltungscodes\n",
    "* Maximum-Likelihood-Decodierung von Faltungscodes\n",
    "\n",
    "### Literatur\n",
    "Sklar, Bernhard,: Digital communications; Prentice Hall, 2001, Chapter 2\n",
    "\n",
    "Lüke, Hans Dieter: Signalübertragung; Springer 1999, Kapitel 1-3\n",
    "\n",
    "Proakis, Salehi: Contemporary Communiction Systems using MATLAB; PWS, 1998, Chapter 4\n",
    "\n",
    "Dettmar, Uwe : Hilfsblätter zur Vorlesung »Quellen- und Kanalcodierung«, September 2011"
   ]
  },
  {
   "cell_type": "markdown",
   "metadata": {},
   "source": [
    "### Hinweis:\n",
    "#### F: Fragen sind bereits in der Vorbereitung zu Hause zu bearbeiten.</br>\n",
    "#### M: Messungen und die dazugehörigen Fragen werden während des Praktikums bearbeitet."
   ]
  },
  {
   "cell_type": "markdown",
   "metadata": {},
   "source": [
    "## 1 Kanalcodierung\n",
    "Kommunikation durch gestörte Kanäle kann zu Übertragungsfehlern führen. Um die Auftrittswahrscheinlichkeit\n",
    "für solche Fehler zu verringern, kann man Sequenzen (Codeworte) übertragen, die sich möglichst stark\n",
    "unterscheiden, so dass eine Verwechslung der Sequenzen im Empfänger unwahrscheinlicher wird. Hierzu\n",
    "müssen im Sender zu den Nutzdaten redundante Symbole hinzugefügt werden. Allerdings reduziert sich hierdurch\n",
    "i.a. auch die Nutzdatenrate, und die Komplexität im Empfänger nimmt zu.\n",
    "Man unterscheidet grob zwischen Block- und Faltungscodes:\n",
    "* Bei Blockcodes werden Blöcke von k Informationssymbolen auf n Codesymbole mit n≥k abgebildet, d.h. das entstehende Codewort hängt nur von den k aktuellen Informationssymbolen ab.\n",
    "* Bei Faltungscodes werden zwar auch k Informationssymbole auf n Codesymbole abgebildet, jedoch hängen\n",
    "die n Codesymbole zusätzlich von den letzten (L-1)k Informationssymbolen ab.\n",
    "In diesem Praktikumsversuch werden nur lineare Codes betrachtet. Für diese Klasse von Codes ist die Summe\n",
    "zweier Codeworte wieder ein Codewort und Mindestdistanz und Mindestgewicht sind gleich.\n",
    "\n",
    "### 1.1 Lineare Blockcodes\n",
    "Der Effekt der Kanalcodierung auf die Fehlerwahrscheinlichkeit soll zunächst an einem einfachen Beispiel\n",
    "demonstriert werden.\n",
    "\n",
    "#### 1.1.1 Repetition Code\n",
    "Die zu übertragenden Informationsbits einer Quelle werden n mal hintereinander über einen BSC übertragen.\n",
    "Im Empfänger wird eine Mehrheitsentscheidung durchgeführt. Jedes Bit wird mit der Wahrscheinlichkeit p\n",
    "falsch empfangen. Die Wahrscheinlichkeit für einen Detektionsfehler (falsches Codewort) ist durch\n",
    "### <center>$P_w=\\sum\\limits_{\\substack{k=\\lceil(n-1)/2\\rceil}}^n \\binom{n}{k} p^k(1-p)^{n-k}$</center>\n",
    "gegeben.\n",
    "\n",
    "#### M: Verwenden Sie das Skript ip_08_07.m, um diese Wahrscheinlichkeit für verschiedene Werte von n darzustellen. Es sei p=0.3 . Interpretieren Sie das Ergebnis.\n"
   ]
  },
  {
   "cell_type": "code",
   "execution_count": 8,
   "metadata": {},
   "outputs": [
    {
     "name": "stdout",
     "output_type": "stream",
     "text": [
      "1\n",
      "3\n",
      "5\n",
      "7\n",
      "9\n",
      "11\n",
      "13\n",
      "15\n",
      "17\n",
      "19\n",
      "21\n",
      "23\n",
      "25\n",
      "27\n",
      "29\n",
      "31\n",
      "33\n"
     ]
    },
    {
     "name": "stderr",
     "output_type": "stream",
     "text": [
      "C:\\Users\\Joschka\\AppData\\Local\\Programs\\Python\\Python36-32\\lib\\site-packages\\ipykernel_launcher.py:31: RuntimeWarning: overflow encountered in long_scalars\n"
     ]
    },
    {
     "name": "stdout",
     "output_type": "stream",
     "text": [
      "35\n",
      "37\n",
      "39\n",
      "41\n",
      "43\n",
      "45\n",
      "47\n",
      "49\n",
      "51\n",
      "53\n",
      "55\n",
      "57\n",
      "59\n"
     ]
    },
    {
     "name": "stderr",
     "output_type": "stream",
     "text": [
      "C:\\Users\\Joschka\\AppData\\Local\\Programs\\Python\\Python36-32\\lib\\site-packages\\ipykernel_launcher.py:31: RuntimeWarning: invalid value encountered in true_divide\n"
     ]
    },
    {
     "data": {
      "image/png": "[encoded data removed]",
      "text/plain": [
       "<matplotlib.figure.Figure at 0x13ffbb0>"
      ]
     },
     "metadata": {},
     "output_type": "display_data"
    }
   ],
   "source": [
    "%matplotlib inline\n",
    "import matplotlib.pyplot as plt,numpy as np\n",
    "\n",
    "def my_range(start, end, step):\n",
    "    \"\"\"\n",
    "    range for a loop with decimal incrementation\n",
    "    stepsize step in range of [start, end]\n",
    "    \"\"\"\n",
    "    while start <= end:\n",
    "        yield start\n",
    "        start += step\n",
    "\"\"\"        \n",
    "for i=1:2:61\n",
    "  p(i)=0;\n",
    "  for j=(i+1)/2:i\n",
    "    p(i)=p(i)+prod(1:i)/(prod(1:j)*prod(1:(i-j)))*ep^j*(1-ep)^(i-j);\n",
    "  end\n",
    "end\n",
    "disp('Press a key to see the plot')\n",
    "pause % Press a key to see the plot\n",
    "stem((1:2:61),p(1:2:61))\n",
    "xlabel('n')\n",
    "ylabel('pe')\n",
    "title('Error probability as a function of n in simple repetition code')\n",
    "\"\"\"\n",
    "ep = 0.3\n",
    "p=np.zeros(61)\n",
    "for i in range(1,61,2): #0-60 statt 1-61\n",
    "    print(i)\n",
    "    for j in my_range(int((i+1)/2),i,1):\n",
    "        p[i] = p[i] + np.prod(np.arange(1,i)) / (np.prod(np.arange(1,j))*np.prod(np.arange(1, (i - j)))*ep**j * (1 - ep) **(i - j))\n",
    "t=np.arange(1,62)\n",
    "plt.stem(t, p)\n",
    "plt.xlabel('n')\n",
    "plt.ylabel('pe')\n",
    "plt.title('Error probability as a function of n in simple repetition code')\n",
    "plt.show()"
   ]
  },
  {
   "cell_type": "markdown",
   "metadata": {},
   "source": [
    "#### F: Welches Ergebnis ergibt sich für die Bitfehlerwahrscheinlichkeit und den Bandbreitebedarf auf dem AWGN Kanal beim Vergleich einer uncodierten Übertragung und der codierten Übertragung mit einem RepetitionCode, wenn Nutzdatenrate und Sendeleistung bei der uncodierten und codierten Übertragung gleich sind?\n",
    "\n",
    "Ein linearer Blockcode wird eindeutig durch seine Generatormatrix G bzw. seine Prüfmatrix H beschrieben.\n",
    "Es ist $c=uG$ , wobei c ein Codewort (Zeilenvektor der Länge n Symbole) und u ein Informationswort (Zeilenvektor der Länge k Symbole) ist. Für lineare Codes ist die Mindestdistanz $d_min$ gleich dem Mindestgewicht\n",
    "$w_min$ .\n",
    "\n",
    "#### M: Gegeben sei die Generatormatrix für einen (10,4) linearen Blockcode. Verwenden Sie das Skript ip_08_08.m, um alle Codeworte zu erzeugen und die Mindestdistanz des Codes zu bestimmen. Wie wird im Skript die Mindestdistanz bestimmt?"
   ]
  },
  {
   "cell_type": "code",
   "execution_count": null,
   "metadata": {
    "collapsed": true
   },
   "outputs": [],
   "source": [
    "ip_08_08()"
   ]
  },
  {
   "cell_type": "markdown",
   "metadata": {},
   "source": [
    "#### 1.1.2 Hamming Code\n",
    "\n",
    "Hamming Codes sind $(2^m−1,2^m−m−1)$ Blockcodes mit der Mindestdistanz 3. Sie werden über ihre\n",
    "Prüfmatrix definiert. Diese enthält alle binären Worte der Länge m außer dem Nullwort als Spalten.\n",
    "\n",
    "#### F: Geben Sie die Prüfmatrix eines Hamming Codes der Länge 7 in systematischer Form an. Wie sieht die zugehörige Generatormatrix aus? Wieviele Fehler kann der Code decodieren? Empfangen wurde das Wort r = (0010000). Zeigen Sie wie das Empfangswort decodiert werden kann.\n",
    "#### M: Verwenden Sie das Skript ip_08_09.m, um alle Codeworte eines (15,11,3) Hamming Codes zu erzeugen und die Mindestdistanz zu berechnen."
   ]
  },
  {
   "cell_type": "code",
   "execution_count": null,
   "metadata": {
    "collapsed": true
   },
   "outputs": [],
   "source": [
    "ip_08_09()"
   ]
  },
  {
   "cell_type": "markdown",
   "metadata": {},
   "source": [
    "Die Wortfehlerwahrscheinlichkeit von Blockcodes bei Übertragung über einen BSC kann für Hard Decision\n",
    "durch den Ausdruck\n",
    "### <center>$P_w≤(M-1)[4p(1-p)^{d_{min}/2}]$</center>\n",
    "nach oben abgeschätzt werden.\n",
    "\n",
    "Für Soft Decision ergeben sich bei Übertragung über einen AWGN Kanal die folgenden oberen Schranken:\n",
    "### <center>$P_w≤(M-1)Q(\\sqrt{\\frac{d_{min}rE_b}{2N_0}})$</center>\n",
    "für orthogonale Übertragung (2-FSK)\n",
    "\n",
    "### <center>$P_w≤(M-1)Q(\\sqrt{\\frac{d_{min}rE_b}{N_0}})$</center>\n",
    "für antipodale Übertragung (BPSK)\n",
    "\n",
    "Dabei ist $E_b$ die Energie pro Informationsbit, M die Anzahl der Codeworte und r=k/n die Coderate.\n",
    "HD und SD Wortfehlerwahrscheinlichkeiten sollen im folgenden für einen (15,11) Hamming Code abgeschätzt\n",
    "werden.\n",
    "\n",
    "#### F: Geben Sie die Werte für die geschätzten Wortfehlerwahrscheinlichkeiten in Abhängigkeit von Eb/N0 für diesen speziellen Code und HD und SD bei antipodaler und orthogonaler Übertragung an.\n",
    "\n",
    "#### M: Verwenden Sie die Skripten ip_08_12.m um diese Plots zu erstellen. Interpretieren Sie die Resultate und vergleichen Sie die Ergebnisse mit uncodierter Übertragung? Wie gut sind die Schranken für hohe Fehlerwahrscheinlichkeiten?"
   ]
  },
  {
   "cell_type": "code",
   "execution_count": null,
   "metadata": {
    "collapsed": true
   },
   "outputs": [],
   "source": [
    "ip_08_12()"
   ]
  },
  {
   "cell_type": "markdown",
   "metadata": {},
   "source": [
    "### 1.2 Faltungscodes\n",
    "Wie bereits oben beschrieben, werden bei Faltungscodes zwar auch k Informationssymbole auf n Codesymbole\n",
    "abgebildet, jedoch hängen die n Codesymbole auch von den letzten (L-1)k Informationssymbolen ab.\n",
    "Gegeben sei die Generatormatrix eines Faltungscodes\n",
    "\n",
    "### <center> $G=\n",
    "\\begin{pmatrix}\n",
    "D+D^2 & 0 & 1  \\\\\n",
    "D^3 & D^3 & D^3  \\\\\n",
    "\\end{pmatrix}\n",
    "$  </center>\n",
    "oder in Encoder-Beschreibungform\n",
    "29.02.16 6 (10)\n",
    "TH Köln SS 2016\n",
    "### <center> $G=\n",
    "\\begin{pmatrix}\n",
    "0 & 0 & 1 & 0 & 1 & 0 & 0 & 1 \\\\\n",
    "0 & 0 & 0 & 0 & 0 & 0 & 0 & 1  \\\\\n",
    "1 & 0 & 0 & 0 & 0 & 0 & 0 & 1\n",
    "\\end{pmatrix}\n",
    "$  </center>\n",
    "\n",
    "#### F: Zeichnen Sie den Faltungsencoder. Wie groß ist die Constraint Length und das Memory des Codes?\n",
    "\n",
    "#### F: Berechnen Sie das Codewort des Faltungscodes für die Eingangssequenz i=(1 0 0 1 1 1 0 0 1 1 0 0 0 0 1 1 1).\n",
    "\n",
    "#### M:Verwenden Sie das Skript capexmpl.m um Ihr Ergebnis zu überprüfen."
   ]
  },
  {
   "cell_type": "code",
   "execution_count": null,
   "metadata": {
    "collapsed": true
   },
   "outputs": [],
   "source": [
    "capexmpl()"
   ]
  },
  {
   "cell_type": "markdown",
   "metadata": {},
   "source": [
    "Abschließend soll noch eine HD Decodierung mit dem Viterbi Decodieralgorithmus durchgeführt werden.\n",
    "Gegeben sei ein (2,1) Faltungscode mit der Generatormatrix\n",
    "### <center> $G=\n",
    "\\begin{pmatrix}\n",
    "1+D^2 & 1+D+D^2 \\\\\n",
    "\\end{pmatrix}\n",
    "$  </center>\n",
    "#### F: Zeichnen Sie den Encoder, sowie das Zustandsdiagramm und den Trellis dieses Codes.\n",
    "\n",
    "#### M: Empfangen werde die Sequenz r=(0 1 1 0 1 1 1 1 0 1 0 0 0 1 0 0 0 0). Führen Sie einmal die Decodierung von Hand aus und verwenden Sie einmal die Funktion viterbi.m mit den Eingaben $G=\\begin{pmatrix}\n",
    "1 & 0 & 1  \\\\\n",
    "1 & 1 & 1  \\\\\n",
    "\\end{pmatrix}\n",
    "$ , k=1 und channel_output = [0 1 1 0 1 1 1 1 0 1 0 0 0 1 0 0 0 0].\n",
    "#### Vergleichen Sie die Ergebnisse. Was sagt die Metrik des besten Pfades aus?"
   ]
  },
  {
   "cell_type": "code",
   "execution_count": null,
   "metadata": {
    "collapsed": true
   },
   "outputs": [],
   "source": [
    "viterbi()"
   ]
  },
  {
   "cell_type": "markdown",
   "metadata": {},
   "source": [
    "### 2 Kanalkapazität\n",
    "Ziel eines jeden Kommunikationssystems ist es die von einer Informationsquelle generierte Information von\n",
    "einem Ort zu einem anderen zu übertragen. Der Informationsgehalt einer Quelle kann durch die Berechnung\n",
    "der Entropie der Quelle bestimmt werden.\n",
    "Die Fähigkeit eines Übertragungskanals, Information zu übertragen, wird durch die Kanalkapazität bestimmt.\n",
    "Die Kanalkapazität ist durch den Ausdruck:\n",
    "### <center> $C=\\underset{p(x)}{max}I(X;Y) $  </center>\n",
    "gegeben, wobei I(X ;Y) die Transinformation zwischen dem Kanaleingang X und dem Ausgang Y ist.\n",
    "X und Y sind Zufallsvariablen. Die Transinformation ist durch den Ausdruck:\n",
    "### <center>$I(X;Y)=\\sum\\limits_{\\substack{x\\in X}}\\sum\\limits_{\\substack{y\\in Y}} p(x)p(y|x)log\\frac{p(x,y)}{p(x)p(y)}$</center>\n",
    "definiert.\n",
    "Eine zuverlässige Übertragung ist nur möglich für Übertragungsraten R (in Informationsbits pro Kanalbenutzung),\n",
    "die kleiner als C sind. Wir betrachten in Folge nur die Kanalkapazität auf dem binary symmetric\n",
    "channel (BSC) und auf dem AWGN Kanal\n",
    "\n",
    "### 2.1 Binary Symmetric Channel\n",
    "Die Kanalkapazität C (in Informationsbits pro Kanalbenutzung) ist durch den Ausdruck:\n",
    "### <center>$C=1-H_b(p)$</center>\n",
    "gegeben, wobei $H_b(p)=-plog_2(p)-(1-p)log_2(1-p)$ die Entropie einer binären Quelle ist.\n",
    "Betrachtet werde eine BPSK Übertragung über einen AWGN Kanal mit hard decision Decodierung. Die Fehlerwahrscheinlichkeit\n",
    "eines Bits beträgt bei matched filter Detektion:\n",
    "<center>$P_b=Q(\\sqrt{\\frac{2E_c}{N_0}})$</center>\n",
    "Für die Kanalkapazität ergibt sich somit\n",
    "<center>$C=1-H_b(Q(\\sqrt{\\frac{2E_c}{N_0}}))$</center>\n",
    "\n",
    "#### M: Nehmen Sie die Kapazität C (in Informationsbit pro Kanalbenutzung) als Funktion von $E_c/N_0$ mit Hilfe des Skripts ip_08_01.m auf. Interpretieren Sie das Ergebnis."
   ]
  },
  {
   "cell_type": "code",
   "execution_count": null,
   "metadata": {
    "collapsed": true
   },
   "outputs": [],
   "source": [
    "ip_08_01()"
   ]
  },
  {
   "cell_type": "markdown",
   "metadata": {},
   "source": [
    "### 2.2 AWGN Kanal\n",
    "Shannon zeigte, dass die Kanalkapazität auf dem AWGN Kanal die Größe:\n",
    "<center>$C'=\\frac{1}{2}B*log(1+\\frac{2P}{N_0B})$</center>\n",
    "in bits/s annimmt. Dabei ist B die zweiseitige Bandbreite, P die Leistung (die in ihrer Größe beschränkt ist)\n",
    "und $N_0$ die einseitige Rauschleistungsdichte.\n",
    "\n",
    "#### M: Die Kanalkapazität C´ (in bps) auf dem AWGN Kanal, in Abhängigkeit von der einseitigen Bandbreite W=0.5 B, kann mit dem Skript ip_08_05.m dargestellt werden."
   ]
  },
  {
   "cell_type": "code",
   "execution_count": null,
   "metadata": {
    "collapsed": true
   },
   "outputs": [],
   "source": [
    "ip_08_05()"
   ]
  },
  {
   "cell_type": "markdown",
   "metadata": {},
   "source": [
    "#### • Was passiert bei schlechter werdendem P/$N_0$ ?\n",
    "#### • Wie ist der Zusammenhang zwischen der Energie pro Informationsbit $E_b$ , der Nutzdatenrate $R_b$ und der Leistung P ?\n",
    "Abschließend soll noch die performance für hard decision und soft decision Decodierung bei einer BPSK\n",
    "Übertragung mit den Amplituden A und −A auf dem AWGN Kanal miteinander verglichen werden.\n",
    "Das Ergebnis für HD Decodierung hatten wir ja schon oben berechnet. Es ergibt sich zu:\n",
    "### <center>$C_H=1-H_b(Q(\\frac{A}{\\delta}))$</center>\n",
    "Für SD Decodierung ergibt sich der Zusammenhang (ohne Beweis):\n",
    "### <center>$C=0.5f(\\frac{A}{\\delta})+0.5f(-\\frac{A}{\\delta})$</center>\n",
    "mit\n",
    "<center>$f=\\int_{-\\infty}^\\infty \\frac{1}{\\sqrt{2\\pi}}exp(-(x-a)^2/2)log_2\\frac{2}{1+exp(-2ax)}dx$ mit $a=\\frac{A}{\\delta}$ </center>\n",
    "\n",
    "#### M: Verwenden Sie das Skript ip_08_04.m, um die Kapazität C (in bits pro Kanalbenutzung) für HD und SD Decodierung als Funktion von $\\frac{A}{\\delta}$ in ein Bild zu plotten."
   ]
  },
  {
   "cell_type": "code",
   "execution_count": null,
   "metadata": {
    "collapsed": true
   },
   "outputs": [],
   "source": [
    "ip_08_04()"
   ]
  },
  {
   "cell_type": "markdown",
   "metadata": {},
   "source": [
    "#### •Warum kommt die Kapazität über den Wert 1 bit/Kanalbenutzung nicht hinaus?\n",
    "#### • Wie groß ist der Gewinn von SD gegenüber HD bei einer Informationsrate von 0.6 Informationsbits/Kanalbenutzung in dB?"
   ]
  }
 ],
 "metadata": {
  "kernelspec": {
   "display_name": "Python 3",
   "language": "python",
   "name": "python3"
  },
  "language_info": {
   "codemirror_mode": {
    "name": "ipython",
    "version": 3
   },
   "file_extension": ".py",
   "mimetype": "text/x-python",
   "name": "python",
   "nbconvert_exporter": "python",
   "pygments_lexer": "ipython3",
   "version": "3.6.2"
  }
 },
 "nbformat": 4,
 "nbformat_minor": 2
}
